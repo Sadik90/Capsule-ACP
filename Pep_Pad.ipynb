{
 "cells": [
  {
   "cell_type": "code",
   "execution_count": 9,
   "id": "88b9f64d-af01-4faf-a224-95b416278953",
   "metadata": {},
   "outputs": [],
   "source": [
    "#Script for padding the sequence for converting into fixed length using \"X\"\n",
    "#preprprocesisng code to convert the variable peptides into a fixed length peptides for evaluation\n",
    "#for making a dataset of same lenght\n",
    "\n",
    "def parse_fasta(input_file, output_file, desired_length):\n",
    "    with open(input_file, 'r') as f:\n",
    "        data = f.read().splitlines()\n",
    "        \n",
    "    sequences = {}\n",
    "    current_id = ''\n",
    "    current_sequence = ''\n",
    "    \n",
    "    for line in data:\n",
    "        if line.startswith('>'):\n",
    "            if current_id:\n",
    "                sequences[current_id] = current_sequence\n",
    "                current_sequence = ''\n",
    "            current_id = line[1:]\n",
    "        else:\n",
    "            current_sequence += line\n",
    "    \n",
    "    sequences[current_id] = current_sequence\n",
    "    \n",
    "    with open(output_file, 'w') as f:\n",
    "        for id, sequence in sequences.items():\n",
    "            if len(sequence) < desired_length:\n",
    "                sequence += 'X' * (desired_length - len(sequence))\n",
    "            elif len(sequence) > desired_length:\n",
    "                sequence = sequence[:desired_length]\n",
    "            f.write('>' + id + '\\n')\n",
    "            f.write(sequence + '\\n')\n"
   ]
  },
  {
   "cell_type": "code",
   "execution_count": 12,
   "id": "d4ab9eba-dcf4-47b2-aa8a-7b581c3452c0",
   "metadata": {},
   "outputs": [],
   "source": [
    "c = parse_fasta(\"acp_test_212.fasta\",\"acp_test_212_padded.fasta\",55)"
   ]
  },
  {
   "cell_type": "code",
   "execution_count": 13,
   "id": "f68d0eed-a013-4b24-b806-f6727225ef46",
   "metadata": {},
   "outputs": [],
   "source": [
    "d = parse_fasta(\"neg_test_212.fasta\",\"neg_test_212_padded.fasta\",55)"
   ]
  },
  {
   "cell_type": "code",
   "execution_count": 5,
   "id": "e7ad5eac-8bb9-4be5-9e80-68769c0e8ee0",
   "metadata": {},
   "outputs": [
    {
     "name": "stdout",
     "output_type": "stream",
     "text": [
      "Longest sequence name: sp|Q39ZS6|RL34_PELCD\n",
      "Longest sequence length: 50\n"
     ]
    }
   ],
   "source": [
    "# Open the FASTA file for reading\n",
    "with open(\"neg_test_212.fasta.txt\", \"r\") as f:\n",
    "\n",
    "    # Initialize variables to keep track of the longest sequence name and length\n",
    "    max_length = 0\n",
    "    max_name = \"\"\n",
    "\n",
    "    # Loop through each line in the file\n",
    "    name = \"\"\n",
    "    length = 0\n",
    "    for line in f:\n",
    "\n",
    "        # If the line starts with '>', it's the header of a new sequence, so we update the current sequence name\n",
    "        if line.startswith(\">\"):\n",
    "            name = line[1:].strip()\n",
    "            length = 0\n",
    "        else:\n",
    "            # Otherwise, it's part of the sequence, so we update the length of the current sequence\n",
    "            length += len(line.strip())\n",
    "\n",
    "            # If the current sequence is longer than the previous longest, update the maximum length and name\n",
    "            if length > max_length:\n",
    "                max_length = length\n",
    "                max_name = name\n",
    "\n",
    "    # Print the name and length of the longest sequence\n",
    "    print(\"Longest sequence name:\", max_name)\n",
    "    print(\"Longest sequence length:\", max_length)"
   ]
  },
  {
   "cell_type": "code",
   "execution_count": 1,
   "id": "02e4993f-7a63-4c89-b2ef-1f84cb3572ab",
   "metadata": {},
   "outputs": [
    {
     "data": {
      "text/plain": [
       "'/home/sadik/TCap'"
      ]
     },
     "execution_count": 1,
     "metadata": {},
     "output_type": "execute_result"
    }
   ],
   "source": [
    "import os \n",
    "os.getcwd()"
   ]
  },
  {
   "cell_type": "code",
   "execution_count": null,
   "id": "dc4867a4",
   "metadata": {},
   "outputs": [],
   "source": []
  }
 ],
 "metadata": {
  "kernelspec": {
   "display_name": "Python 3 (ipykernel)",
   "language": "python",
   "name": "python3"
  },
  "language_info": {
   "codemirror_mode": {
    "name": "ipython",
    "version": 3
   },
   "file_extension": ".py",
   "mimetype": "text/x-python",
   "name": "python",
   "nbconvert_exporter": "python",
   "pygments_lexer": "ipython3",
   "version": "3.7.15"
  }
 },
 "nbformat": 4,
 "nbformat_minor": 5
}
